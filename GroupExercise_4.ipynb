{
  "nbformat": 4,
  "nbformat_minor": 0,
  "metadata": {
    "colab": {
      "provenance": [],
      "include_colab_link": true
    },
    "kernelspec": {
      "name": "python3",
      "display_name": "Python 3"
    },
    "language_info": {
      "name": "python"
    }
  },
  "cells": [
    {
      "cell_type": "markdown",
      "metadata": {
        "id": "view-in-github",
        "colab_type": "text"
      },
      "source": [
        "<a href=\"https://colab.research.google.com/github/SAMYSOSERIOUS/Stats-analytics/blob/main/GroupExercise_4.ipynb\" target=\"_parent\"><img src=\"https://colab.research.google.com/assets/colab-badge.svg\" alt=\"Open In Colab\"/></a>"
      ]
    },
    {
      "cell_type": "markdown",
      "source": [
        "**Team Members**\n",
        "\n",
        "**1.POOJASHREE SHIVARAJA**\n",
        "\n",
        "**2.SAMI HAMROUNI**"
      ],
      "metadata": {
        "id": "gFDjCCjPlveD"
      }
    },
    {
      "cell_type": "markdown",
      "source": [
        "# **1.Load the Dataset**"
      ],
      "metadata": {
        "id": "dDZNzeGIlEnt"
      }
    },
    {
      "cell_type": "code",
      "source": [
        "import kagglehub\n",
        "\n",
        "# Download latest version\n",
        "path = kagglehub.dataset_download(\"bhatvikas/movielens-100k-dataset\")\n",
        "\n",
        "print(\"Path to dataset files:\", path)"
      ],
      "metadata": {
        "colab": {
          "base_uri": "https://localhost:8080/"
        },
        "id": "rKCGrP_kkXkd",
        "outputId": "5d372cf7-a3fe-4763-a507-28135c3d4d86"
      },
      "execution_count": 5,
      "outputs": [
        {
          "output_type": "stream",
          "name": "stdout",
          "text": [
            "Path to dataset files: /root/.cache/kagglehub/datasets/bhatvikas/movielens-100k-dataset/versions/1\n"
          ]
        }
      ]
    },
    {
      "cell_type": "markdown",
      "source": [
        "# **2. Check Data Types**"
      ],
      "metadata": {
        "id": "wTi1IRWVlixw"
      }
    },
    {
      "cell_type": "code",
      "source": [
        "import pandas as pd\n",
        "\n",
        "\n",
        "file_path = path + '/ml-100k/u.data'\n",
        "\n",
        "try:\n",
        "    # Load the dataset into a pandas DataFrame\n",
        "    df = pd.read_csv(file_path, sep='\\t', names=['user_id', 'item_id', 'rating', 'timestamp'])\n",
        "\n",
        "    # Check the data types of each column\n",
        "    print(\"data types\")\n",
        "    print(df.dtypes)\n",
        "    print(\"data head\")\n",
        "    print(df.head())\n",
        "    print(\"data info\")\n",
        "    print(df.info())\n",
        "\n",
        "except FileNotFoundError:\n",
        "    print(f\"Error: File not found at {file_path}. Please verify the path.\")\n",
        "except Exception as e:\n",
        "    print(f\"An error occurred: {e}\")\n"
      ],
      "metadata": {
        "colab": {
          "base_uri": "https://localhost:8080/"
        },
        "id": "P-aCiQIwlD6r",
        "outputId": "4accfaaf-8325-4737-c8d9-fb1a43819615"
      },
      "execution_count": 10,
      "outputs": [
        {
          "output_type": "stream",
          "name": "stdout",
          "text": [
            "data types\n",
            "user_id      int64\n",
            "item_id      int64\n",
            "rating       int64\n",
            "timestamp    int64\n",
            "dtype: object\n",
            "data head\n",
            "   user_id  item_id  rating  timestamp\n",
            "0      196      242       3  881250949\n",
            "1      186      302       3  891717742\n",
            "2       22      377       1  878887116\n",
            "3      244       51       2  880606923\n",
            "4      166      346       1  886397596\n",
            "data info\n",
            "<class 'pandas.core.frame.DataFrame'>\n",
            "RangeIndex: 100000 entries, 0 to 99999\n",
            "Data columns (total 4 columns):\n",
            " #   Column     Non-Null Count   Dtype\n",
            "---  ------     --------------   -----\n",
            " 0   user_id    100000 non-null  int64\n",
            " 1   item_id    100000 non-null  int64\n",
            " 2   rating     100000 non-null  int64\n",
            " 3   timestamp  100000 non-null  int64\n",
            "dtypes: int64(4)\n",
            "memory usage: 3.1 MB\n",
            "None\n"
          ]
        }
      ]
    },
    {
      "cell_type": "markdown",
      "source": [
        "# **3. Check for Missing Values**"
      ],
      "metadata": {
        "id": "RMPGyuo_lrlK"
      }
    },
    {
      "cell_type": "code",
      "source": [
        "import kagglehub\n",
        "import pandas as pd\n",
        "\n",
        "# Download latest version\n",
        "path = kagglehub.dataset_download(\"bhatvikas/movielens-100k-dataset\")\n",
        "\n",
        "print(\"Path to dataset files:\", path)\n",
        "# # **2. Check Data Types**\n",
        "\n",
        "\n",
        "file_path = path + '/ml-100k/u.data'\n",
        "\n",
        "try:\n",
        "\n",
        "    # Check for Missing Values\n",
        "    print(\"\\nMissing Values:\")\n",
        "    print(df.isnull().sum())\n",
        "\n",
        "except FileNotFoundError:\n",
        "    print(f\"Error: File not found at {file_path}. Please verify the path.\")\n",
        "except Exception as e:\n",
        "    print(f\"An error occurred: {e}\")\n"
      ],
      "metadata": {
        "colab": {
          "base_uri": "https://localhost:8080/"
        },
        "id": "_uuBwcYnluwj",
        "outputId": "a3d4c9a1-feed-42e8-b2a4-2aa811810c80"
      },
      "execution_count": 12,
      "outputs": [
        {
          "output_type": "stream",
          "name": "stdout",
          "text": [
            "Path to dataset files: /root/.cache/kagglehub/datasets/bhatvikas/movielens-100k-dataset/versions/1\n",
            "\n",
            "Missing Values:\n",
            "user_id      0\n",
            "item_id      0\n",
            "rating       0\n",
            "timestamp    0\n",
            "dtype: int64\n"
          ]
        }
      ]
    },
    {
      "cell_type": "markdown",
      "source": [
        "# 4. Check for Duplicates"
      ],
      "metadata": {
        "id": "pDkStXakl6sQ"
      }
    },
    {
      "cell_type": "code",
      "source": [
        "import kagglehub\n",
        "import pandas as pd\n",
        "\n",
        "\n",
        "# # 4. Check for Duplicates\n",
        "\n",
        "try:\n",
        "    # Check for duplicate rows\n",
        "    duplicate_rows = df[df.duplicated()]\n",
        "    print(\"\\nDuplicate Rows:\")\n",
        "    print(duplicate_rows)\n",
        "\n",
        "    # Check for duplicates based on specific columns (e.g., 'user_id', 'item_id')\n",
        "    duplicate_rows_specific_cols = df[df.duplicated(subset=['user_id', 'item_id'])]\n",
        "    print(\"\\nDuplicate Rows based on 'user_id' and 'item_id':\")\n",
        "    print(duplicate_rows_specific_cols)\n",
        "\n",
        "    # Number of duplicate rows\n",
        "    num_duplicates = len(duplicate_rows)\n",
        "    print(f\"\\nNumber of duplicate rows: {num_duplicates}\")\n",
        "\n",
        "except NameError:\n",
        "    print(\"DataFrame 'df' not found. Please make sure the file is loaded correctly.\")\n",
        "except Exception as e:\n",
        "    print(f\"An error occurred: {e}\")\n"
      ],
      "metadata": {
        "colab": {
          "base_uri": "https://localhost:8080/"
        },
        "id": "BLwhtsYQmDdR",
        "outputId": "529b3e23-7844-404d-c90b-13b369b80c29"
      },
      "execution_count": 13,
      "outputs": [
        {
          "output_type": "stream",
          "name": "stdout",
          "text": [
            "\n",
            "Duplicate Rows:\n",
            "Empty DataFrame\n",
            "Columns: [user_id, item_id, rating, timestamp]\n",
            "Index: []\n",
            "\n",
            "Duplicate Rows based on 'user_id' and 'item_id':\n",
            "Empty DataFrame\n",
            "Columns: [user_id, item_id, rating, timestamp]\n",
            "Index: []\n",
            "\n",
            "Number of duplicate rows: 0\n"
          ]
        }
      ]
    },
    {
      "cell_type": "markdown",
      "source": [
        "# **5. Analyze Cardinality**"
      ],
      "metadata": {
        "id": "PIF87mbbmSrS"
      }
    },
    {
      "cell_type": "code",
      "source": [
        "try:\n",
        "    # Analyze Cardinality\n",
        "    print(\"\\nCardinality Analysis:\")\n",
        "    for col in df.columns:\n",
        "        cardinality = df[col].nunique()\n",
        "        print(f\"Cardinality of '{col}': {cardinality}\")\n",
        "except NameError:\n",
        "    print(\"DataFrame 'df' not found. Please make sure the file is loaded correctly.\")\n",
        "except Exception as e:\n",
        "    print(f\"An error occurred: {e}\")\n"
      ],
      "metadata": {
        "colab": {
          "base_uri": "https://localhost:8080/"
        },
        "id": "2SiPD4VGmYAB",
        "outputId": "a7694370-a03d-475d-e167-1230dc4138a1"
      },
      "execution_count": 16,
      "outputs": [
        {
          "output_type": "stream",
          "name": "stdout",
          "text": [
            "\n",
            "Cardinality Analysis:\n",
            "Cardinality of 'user_id': 943\n",
            "Cardinality of 'item_id': 1682\n",
            "Cardinality of 'rating': 5\n",
            "Cardinality of 'timestamp': 49282\n"
          ]
        }
      ]
    },
    {
      "cell_type": "markdown",
      "source": [
        "# **6. Analyze Value Distributions**"
      ],
      "metadata": {
        "id": "Fm2x5zehmyoZ"
      }
    },
    {
      "cell_type": "code",
      "source": [
        "import matplotlib.pyplot as plt\n",
        "import seaborn as sns\n",
        "\n",
        "try:\n",
        "    # Summary statistics for ratings\n",
        "    print(\"\\nSummary Statistics for Ratings:\")\n",
        "    print(df['rating'].describe())\n",
        "\n",
        "    # Visualize rating distribution\n",
        "    plt.figure(figsize=(8, 6))\n",
        "    sns.histplot(df['rating'], kde=True)\n",
        "    plt.title('Distribution of Movie Ratings')\n",
        "    plt.xlabel('Rating')\n",
        "    plt.ylabel('Frequency')\n",
        "    plt.show()\n",
        "\n",
        "    # Boxplot of ratings\n",
        "    plt.figure(figsize=(6, 4))\n",
        "    sns.boxplot(x=df['rating'])\n",
        "    plt.title('Boxplot of Movie Ratings')\n",
        "    plt.show()\n",
        "\n",
        "except NameError:\n",
        "    print(\"DataFrame 'df' not found. Please make sure the file is loaded correctly.\")\n",
        "except Exception as e:\n",
        "    print(f\"An error occurred: {e}\")\n"
      ],
      "metadata": {
        "colab": {
          "base_uri": "https://localhost:8080/",
          "height": 1000
        },
        "id": "C1bpjid0m2Dz",
        "outputId": "8e2547f5-c2d5-46fc-b4d9-69740075b63a"
      },
      "execution_count": 17,
      "outputs": [
        {
          "output_type": "stream",
          "name": "stdout",
          "text": [
            "\n",
            "Summary Statistics for Ratings:\n",
            "count    100000.000000\n",
            "mean          3.529860\n",
            "std           1.125674\n",
            "min           1.000000\n",
            "25%           3.000000\n",
            "50%           4.000000\n",
            "75%           4.000000\n",
            "max           5.000000\n",
            "Name: rating, dtype: float64\n"
          ]
        },
        {
          "output_type": "display_data",
          "data": {
            "text/plain": [
              "<Figure size 800x600 with 1 Axes>"
            ],
            "image/png": "[encoded data removed]"
          },
          "metadata": {}
        },
        {
          "output_type": "display_data",
          "data": {
            "text/plain": [
              "<Figure size 600x400 with 1 Axes>"
            ],
            "image/png": "[encoded data removed]"
          },
          "metadata": {}
        }
      ]
    },
    {
      "cell_type": "markdown",
      "source": [
        "# 7. check Functional Dependencies"
      ],
      "metadata": {
        "id": "o-1t05CJnFRk"
      }
    },
    {
      "cell_type": "code",
      "source": [
        "\n",
        "import pandas as pd\n",
        "\n",
        "\n",
        "try:\n",
        "    functional_dependency_holds = df.groupby('item_id')['rating'].nunique().apply(lambda x: x == 1).all()\n",
        "\n",
        "    if functional_dependency_holds:\n",
        "        print(\"Movie ID functionally determines Rating.\")\n",
        "    else:\n",
        "        print(\"Movie ID does NOT functionally determine Rating.\")\n",
        "\n",
        "except KeyError:\n",
        "    print(\"Error: 'item_id' or 'rating' column not found in the DataFrame.\")\n",
        "except Exception as e:\n",
        "    print(f\"An error occurred: {e}\")\n"
      ],
      "metadata": {
        "colab": {
          "base_uri": "https://localhost:8080/"
        },
        "id": "ER0m4lVVnK7O",
        "outputId": "1abde564-4a28-449a-8c08-ab83045efb38"
      },
      "execution_count": 18,
      "outputs": [
        {
          "output_type": "stream",
          "name": "stdout",
          "text": [
            "Movie ID does NOT functionally determine Rating.\n"
          ]
        }
      ]
    }
  ]
}